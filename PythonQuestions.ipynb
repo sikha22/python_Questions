{
  "nbformat": 4,
  "nbformat_minor": 0,
  "metadata": {
    "colab": {
      "name": "PythonQuestions.ipynb",
      "provenance": [],
      "authorship_tag": "ABX9TyPB1BEfM0oT/BekF6Govj2t",
      "include_colab_link": true
    },
    "kernelspec": {
      "name": "python3",
      "display_name": "Python 3"
    },
    "language_info": {
      "name": "python"
    }
  },
  "cells": [
    {
      "cell_type": "markdown",
      "metadata": {
        "id": "view-in-github",
        "colab_type": "text"
      },
      "source": [
        "<a href=\"https://colab.research.google.com/github/sikha22/python_Questions/blob/main/PythonQuestions.ipynb\" target=\"_parent\"><img src=\"https://colab.research.google.com/assets/colab-badge.svg\" alt=\"Open In Colab\"/></a>"
      ]
    },
    {
      "cell_type": "code",
      "metadata": {
        "colab": {
          "base_uri": "https://localhost:8080/"
        },
        "id": "QZyj38md1e1y",
        "outputId": "c0665ab4-7ae0-4c1d-c985-c39db4c2d601"
      },
      "source": [
        "# write a program to calculate the total\n",
        "# amount of money in the piggybank\n",
        "#NOTE : given coins of the rs 10,5,2,and 1\n",
        "\n",
        "rupees_1=int(input(\"enter the no. of rs.1 coins = \"))\n",
        "rupees_2=int(input(\"enter the no. of rs.2 coins = \"))\n",
        "rupees_5=int(input(\"enter the no. of rs.5 coins = \"))\n",
        "rupees_10=int(input(\"enter the no. of rs.10 coins = \"))\n",
        "sum=rupees_1+rupees_2*2+rupees_5*5+rupees_10*10\n",
        "print(\"total amount :\" ,sum)"
      ],
      "execution_count": 1,
      "outputs": [
        {
          "output_type": "stream",
          "name": "stdout",
          "text": [
            "enter the no. of rs.1 coins = 6\n",
            "enter the no. of rs.2 coins = 8\n",
            "enter the no. of rs.5 coins = 3\n",
            "enter the no. of rs.10 coins = 8\n",
            "total amount : 117\n"
          ]
        }
      ]
    }
  ]
}