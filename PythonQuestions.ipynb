{
  "nbformat": 4,
  "nbformat_minor": 0,
  "metadata": {
    "colab": {
      "name": "PythonQuestions.ipynb",
      "provenance": [],
      "authorship_tag": "ABX9TyMNRHvdwWMr5babtT3Qsa/B",
      "include_colab_link": true
    },
    "kernelspec": {
      "name": "python3",
      "display_name": "Python 3"
    },
    "language_info": {
      "name": "python"
    }
  },
  "cells": [
    {
      "cell_type": "markdown",
      "metadata": {
        "id": "view-in-github",
        "colab_type": "text"
      },
      "source": [
        "<a href=\"https://colab.research.google.com/github/sikha22/python_Questions/blob/main/PythonQuestions.ipynb\" target=\"_parent\"><img src=\"https://colab.research.google.com/assets/colab-badge.svg\" alt=\"Open In Colab\"/></a>"
      ]
    },
    {
      "cell_type": "code",
      "metadata": {
        "colab": {
          "base_uri": "https://localhost:8080/"
        },
        "id": "QZyj38md1e1y",
        "outputId": "c0665ab4-7ae0-4c1d-c985-c39db4c2d601"
      },
      "source": [
        "# write a program to calculate the total\n",
        "# amount of money in the piggybank\n",
        "#NOTE : given coins of the rs 10,5,2,and 1\n",
        "\n",
        "rupees_1=int(input(\"enter the no. of rs.1 coins = \"))\n",
        "rupees_2=int(input(\"enter the no. of rs.2 coins = \"))\n",
        "rupees_5=int(input(\"enter the no. of rs.5 coins = \"))\n",
        "rupees_10=int(input(\"enter the no. of rs.10 coins = \"))\n",
        "sum=rupees_1+rupees_2*2+rupees_5*5+rupees_10*10\n",
        "print(\"total amount :\" ,sum)"
      ],
      "execution_count": 1,
      "outputs": [
        {
          "output_type": "stream",
          "name": "stdout",
          "text": [
            "enter the no. of rs.1 coins = 6\n",
            "enter the no. of rs.2 coins = 8\n",
            "enter the no. of rs.5 coins = 3\n",
            "enter the no. of rs.10 coins = 8\n",
            "total amount : 117\n"
          ]
        }
      ]
    },
    {
      "cell_type": "code",
      "metadata": {
        "colab": {
          "base_uri": "https://localhost:8080/"
        },
        "id": "2gEreu4_2lf_",
        "outputId": "5e1d9866-7b14-4916-c142-8e12e0113c88"
      },
      "source": [
        "#write a program to convert a floating\n",
        "# point number into the corresponding integer\n",
        "#print(\"enter the floating point value : \")\n",
        "#a=input()\n",
        "#print(\"converted value :\")\n",
        "#b=int(a)\n",
        "\n",
        "\n",
        "val = float(input(\"Enter your value: \"))\n",
        "print(val)\n",
        "val1=int(val)\n",
        "print(\"converted value:\" ,val1)"
      ],
      "execution_count": 2,
      "outputs": [
        {
          "output_type": "stream",
          "name": "stdout",
          "text": [
            "Enter your value: 4.89\n",
            "4.89\n",
            "converted value: 4\n"
          ]
        }
      ]
    },
    {
      "cell_type": "code",
      "metadata": {
        "colab": {
          "base_uri": "https://localhost:8080/"
        },
        "id": "R4q-dscx22Cq",
        "outputId": "a03bc13b-93c9-4c90-b09f-ff6f7c6b215c"
      },
      "source": [
        "#write a program to determine whether a person\n",
        "# is eligible to vote or not . if he/she is not\n",
        "# eligible , then how many years are left to be\n",
        "# eligible\n",
        "a=int(input(\"enter your age :\"))\n",
        "print(\"your age is :\" ,a)\n",
        "if a>=18:\n",
        "    print(\"congrats,you are eligible to vote\")\n",
        "else:\n",
        "    print(\"you are not eligible to vote\")\n",
        "print( 18-a,\"year's left to be eligible\")"
      ],
      "execution_count": 4,
      "outputs": [
        {
          "output_type": "stream",
          "name": "stdout",
          "text": [
            "enter your age :12\n",
            "your age is : 12\n",
            "you are not eligible to vote\n",
            "6 year's left to be eligible\n"
          ]
        }
      ]
    },
    {
      "cell_type": "code",
      "metadata": {
        "colab": {
          "base_uri": "https://localhost:8080/"
        },
        "id": "zwa5NVwm3I9k",
        "outputId": "4e910d47-e6d4-4a2f-a72c-7f0455337bb4"
      },
      "source": [
        "#password Question\n",
        "c=0\n",
        "while(c<3):\n",
        "      a=input(\"Enter password: \")\n",
        "      if(a==\"hello world\"):\n",
        "          print(\"correct password\")\n",
        "          c=3 #break\n",
        "      else:\n",
        "              c+=3\n",
        "              if(c==3):\n",
        "                  print(\"wrong password \\n Access denied\")\n",
        "              "
      ],
      "execution_count": 9,
      "outputs": [
        {
          "output_type": "stream",
          "name": "stdout",
          "text": [
            "Enter password: hello world\n",
            "correct password\n"
          ]
        }
      ]
    },
    {
      "cell_type": "code",
      "metadata": {
        "colab": {
          "base_uri": "https://localhost:8080/"
        },
        "id": "iHycYKyZ32-t",
        "outputId": "8114d636-b708-4550-9aaf-228c313d2a33"
      },
      "source": [
        "\"\"\" write a program that asks for two numbers. if the sum\n",
        "of the numbers is greater than 100, print \" that is a big number\" and terminate the program \"\"\"\n",
        "a=int(input(\"Enter 1st number :\"))\n",
        "b=int(input(\"Enter 2nd number:\"))\n",
        "c=a+b\n",
        "print (\"Sum of 1st and 2nd number is: {}\".format(c))\n",
        "#print(sum)\n",
        "if(c>100):\n",
        "    print(\"That is a big number\")\n"
      ],
      "execution_count": 13,
      "outputs": [
        {
          "output_type": "stream",
          "name": "stdout",
          "text": [
            "Enter 1st number :98\n",
            "Enter 2nd number:45\n",
            "Sum of 1st and 2nd number is: 143\n",
            "That is a big number\n"
          ]
        }
      ]
    },
    {
      "cell_type": "code",
      "metadata": {
        "colab": {
          "base_uri": "https://localhost:8080/"
        },
        "id": "tChikwtE4M3e",
        "outputId": "1bd4c726-6ab9-45f0-8680-e105cc3055d0"
      },
      "source": [
        "\"\"\" write a python program that accepts a number\n",
        "from the user and swipe it \"\"\"\n",
        "a=int(input(\"Enter the number:\"))\n",
        "b=int(input(\"Enter the number:\"))\n",
        "print(\"a : {}\".format(a))\n",
        "print(\"b : {}\".format(b))\n",
        "#temp=a\n",
        "#a=b\n",
        "#b=temp\n",
        "a,b=b,a\n",
        "print(\"swipe the number\")\n",
        "print(\"a : {}\".format(a))\n",
        "print(\"b : {}\".format(b))"
      ],
      "execution_count": 15,
      "outputs": [
        {
          "output_type": "stream",
          "name": "stdout",
          "text": [
            "Enter the number:45\n",
            "Enter the number:12\n",
            "a : 45\n",
            "b : 12\n",
            "swipe the number\n",
            "a : 12\n",
            "b : 45\n"
          ]
        }
      ]
    },
    {
      "cell_type": "code",
      "metadata": {
        "colab": {
          "base_uri": "https://localhost:8080/"
        },
        "id": "RmuE0d_f4ioY",
        "outputId": "4436cc34-8a14-4f35-a6e0-b1531e8bf897"
      },
      "source": [
        "\"\"\" write a python program that accepts a number\n",
        "from the user and reverse it \"\"\"\n",
        "n=int(input(\"Enter the number: \"))\n",
        "r=0\n",
        "while(n>0):\n",
        "    d=n%10\n",
        "    r=r*10+d\n",
        "    n=n//10\n",
        "print(\"Reverse number :{}\".format(r))    \n",
        "\n"
      ],
      "execution_count": 16,
      "outputs": [
        {
          "output_type": "stream",
          "name": "stdout",
          "text": [
            "Enter the number: 56\n",
            "Reverse number :65\n"
          ]
        }
      ]
    },
    {
      "cell_type": "code",
      "metadata": {
        "colab": {
          "base_uri": "https://localhost:8080/"
        },
        "id": "eExGlKmB4yb1",
        "outputId": "c4f19097-0d08-473b-a384-95b9d441b9f0"
      },
      "source": [
        "\"\"\" write a python program to find those numbers which are divisible by 7 and multiple of 5 between 1500 and 2700\"\"\"\n",
        "\n",
        "for i in range(1500,2701):\n",
        "     if(i%7==0 and i%5==0):\n",
        "         print(i)"
      ],
      "execution_count": 17,
      "outputs": [
        {
          "output_type": "stream",
          "name": "stdout",
          "text": [
            "1505\n",
            "1540\n",
            "1575\n",
            "1610\n",
            "1645\n",
            "1680\n",
            "1715\n",
            "1750\n",
            "1785\n",
            "1820\n",
            "1855\n",
            "1890\n",
            "1925\n",
            "1960\n",
            "1995\n",
            "2030\n",
            "2065\n",
            "2100\n",
            "2135\n",
            "2170\n",
            "2205\n",
            "2240\n",
            "2275\n",
            "2310\n",
            "2345\n",
            "2380\n",
            "2415\n",
            "2450\n",
            "2485\n",
            "2520\n",
            "2555\n",
            "2590\n",
            "2625\n",
            "2660\n",
            "2695\n"
          ]
        }
      ]
    },
    {
      "cell_type": "code",
      "metadata": {
        "colab": {
          "base_uri": "https://localhost:8080/"
        },
        "id": "tcPn59pV5AMA",
        "outputId": "0cf20366-af60-4822-d92d-29e17a55b0ad"
      },
      "source": [
        "\"\"\"write a python program to print the fibonacci series\"\"\"\n",
        "n=int(input(\"Enter the numbers:\"))\n",
        "a=0\n",
        "b=1\n",
        "sum=0\n",
        "c=0 #c=1\n",
        "while(c<n): #while(c<=n):\n",
        "    print(sum,end=\" \" )\n",
        "    c+=1\n",
        "    a=b\n",
        "    b=sum\n",
        "    sum=a+b"
      ],
      "execution_count": 18,
      "outputs": [
        {
          "output_type": "stream",
          "name": "stdout",
          "text": [
            "Enter the numbers:6\n",
            "0 1 1 2 3 5 "
          ]
        }
      ]
    },
    {
      "cell_type": "code",
      "metadata": {
        "colab": {
          "base_uri": "https://localhost:8080/"
        },
        "id": "ZanicjH75GQG",
        "outputId": "c2cd590f-7548-4e27-a41b-588d9dcaf60d"
      },
      "source": [
        "\"\"\"write a python program which iterates the integers from 1 to 50 .for multiples of three print \"fizz\"\n",
        "instead of the number and for multiple of five print \"buzz\".for numbers which are multiples of both numbers three\n",
        "and five print \"fizzbuzz\" \"\"\"\n",
        "for i in range (1,51):\n",
        "    if(i%3==0 and i%5==0):\n",
        "        print(\"fizzbuzz\")\n",
        "    elif(i%3==0):\n",
        "       print(\"fizz\")\n",
        "    elif(i%5==0):\n",
        "        print(\"buzz\")\n",
        "    else:\n",
        "         print(i)\n"
      ],
      "execution_count": 19,
      "outputs": [
        {
          "output_type": "stream",
          "name": "stdout",
          "text": [
            "1\n",
            "2\n",
            "fizz\n",
            "4\n",
            "buzz\n",
            "fizz\n",
            "7\n",
            "8\n",
            "fizz\n",
            "buzz\n",
            "11\n",
            "fizz\n",
            "13\n",
            "14\n",
            "fizzbuzz\n",
            "16\n",
            "17\n",
            "fizz\n",
            "19\n",
            "buzz\n",
            "fizz\n",
            "22\n",
            "23\n",
            "fizz\n",
            "buzz\n",
            "26\n",
            "fizz\n",
            "28\n",
            "29\n",
            "fizzbuzz\n",
            "31\n",
            "32\n",
            "fizz\n",
            "34\n",
            "buzz\n",
            "fizz\n",
            "37\n",
            "38\n",
            "fizz\n",
            "buzz\n",
            "41\n",
            "fizz\n",
            "43\n",
            "44\n",
            "fizzbuzz\n",
            "46\n",
            "47\n",
            "fizz\n",
            "49\n",
            "buzz\n"
          ]
        }
      ]
    },
    {
      "cell_type": "code",
      "metadata": {
        "colab": {
          "base_uri": "https://localhost:8080/"
        },
        "id": "sGZvAcsM5SFG",
        "outputId": "6b6acb7d-f486-4867-8598-353114b54fcf"
      },
      "source": [
        "\"\"\" pattern question \"\"\"\n",
        "n=int(input(\"Enter thr numbers for printing pattern :\"))\n",
        "for i in range(n):\n",
        "    for j in range(i+1):\n",
        "        print(\"*\" ,end=\" \")\n",
        "    print()"
      ],
      "execution_count": 20,
      "outputs": [
        {
          "output_type": "stream",
          "name": "stdout",
          "text": [
            "Enter thr numbers for printing pattern :12\n",
            "* \n",
            "* * \n",
            "* * * \n",
            "* * * * \n",
            "* * * * * \n",
            "* * * * * * \n",
            "* * * * * * * \n",
            "* * * * * * * * \n",
            "* * * * * * * * * \n",
            "* * * * * * * * * * \n",
            "* * * * * * * * * * * \n",
            "* * * * * * * * * * * * \n"
          ]
        }
      ]
    },
    {
      "cell_type": "code",
      "metadata": {
        "colab": {
          "base_uri": "https://localhost:8080/"
        },
        "id": "Vu7w_0s55Z93",
        "outputId": "23a00de3-3a03-485e-d7d3-4333557bd450"
      },
      "source": [
        "\"\"\" write a program to print alphabet pattern 'A' \"\"\"\n",
        "\n",
        "\n",
        "n=7\n",
        "for i in range(n):\n",
        "    for j in range(n//2+1):\n",
        "        if((j==0 or j==n//2) and i!=0 or i==0 and j!=0 and j!=n//2 or i==n//2):\n",
        "            print(\"*\" , end=\" \")\n",
        "        else:\n",
        "          print(\" \" ,end=\" \" )\n",
        "    print()        "
      ],
      "execution_count": 21,
      "outputs": [
        {
          "output_type": "stream",
          "name": "stdout",
          "text": [
            "  * *   \n",
            "*     * \n",
            "*     * \n",
            "* * * * \n",
            "*     * \n",
            "*     * \n",
            "*     * \n"
          ]
        }
      ]
    },
    {
      "cell_type": "code",
      "metadata": {
        "colab": {
          "base_uri": "https://localhost:8080/"
        },
        "id": "PPp-PuEJ5j2g",
        "outputId": "e0d5e975-4cb7-4bf8-85fd-95f9faa83135"
      },
      "source": [
        "\"\"\" write a program to print alphabet pattern NUMBERS \"\"\"\n",
        "n=int(input(\"Enter thr numbers for printing pattern :\"))\n",
        "for i in range(n):\n",
        "    for j in range(i+1):\n",
        "        print(j+1 ,end=\" \") #print(i+1 ,end=\" \")\n",
        "    print()"
      ],
      "execution_count": 22,
      "outputs": [
        {
          "output_type": "stream",
          "name": "stdout",
          "text": [
            "Enter thr numbers for printing pattern :5\n",
            "1 \n",
            "1 2 \n",
            "1 2 3 \n",
            "1 2 3 4 \n",
            "1 2 3 4 5 \n"
          ]
        }
      ]
    },
    {
      "cell_type": "code",
      "metadata": {
        "colab": {
          "base_uri": "https://localhost:8080/"
        },
        "id": "a6G07BIW5ty5",
        "outputId": "eb9dca4d-e4df-409c-f748-96ee9a015b77"
      },
      "source": [
        "\"\"\" write a program to check whether an alphabet is vowel or consonant\"\"\"\n",
        "a=(input(\"Enter an alphabet :\"))\n",
        "if(a==\"a\" or a==\"A\" or a==\"e\" or a==\"E\" or a==\"i\" or a==\"I\" or a==\"o\" or a==\"O\" or a==\"u\" or a==\"U\"):\n",
        "    print(\"It's a vowel alphabet\")\n",
        "else:\n",
        "  print(\"It's a consonant alphabet\")"
      ],
      "execution_count": 25,
      "outputs": [
        {
          "output_type": "stream",
          "name": "stdout",
          "text": [
            "Enter an alphabet :e\n",
            "It's a vowel alphabet\n"
          ]
        }
      ]
    },
    {
      "cell_type": "code",
      "metadata": {
        "colab": {
          "base_uri": "https://localhost:8080/"
        },
        "id": "qI5oI8sm56JE",
        "outputId": "b418ba4b-ced5-49e5-e05d-4d7da7558649"
      },
      "source": [
        "\"\"\" write a program to check a triangle is equilateral,isosceles or scalence \"\"\"\n",
        "a=(input(\"Enter 1st side of triangle:\"))\n",
        "b=(input(\"Enter 2nd side of triangle:\"))\n",
        "c=(input(\"Enter 3rd side of triangle:\"))\n",
        "if(a==b and b==c and c==a):\n",
        "    print(\"It's an equilateral triagle\")\n",
        "elif(a==b or b==c):\n",
        "    print(\"It's an isosceles triangle\")\n",
        "else:\n",
        "    print(\"It's a scalence triangle\")"
      ],
      "execution_count": 26,
      "outputs": [
        {
          "output_type": "stream",
          "name": "stdout",
          "text": [
            "Enter 1st side of triangle:6\n",
            "Enter 2nd side of triangle:8\n",
            "Enter 3rd side of triangle:2\n",
            "It's a scalence triangle\n"
          ]
        }
      ]
    },
    {
      "cell_type": "code",
      "metadata": {
        "colab": {
          "base_uri": "https://localhost:8080/"
        },
        "id": "PmrU1ONl6Agp",
        "outputId": "a08c0d3e-6baa-4df6-fb68-6af7a9f9fbe3"
      },
      "source": [
        "\"\"\" write a python function to reverse a string\"\"\"\n",
        "a=\"abc\"\n",
        "r=\" \"\n",
        "for i in a:\n",
        "    r=i+r\n",
        "print(r)"
      ],
      "execution_count": 33,
      "outputs": [
        {
          "output_type": "stream",
          "name": "stdout",
          "text": [
            "cba \n"
          ]
        }
      ]
    },
    {
      "cell_type": "code",
      "metadata": {
        "colab": {
          "base_uri": "https://localhost:8080/"
        },
        "id": "XanX2ssq6u80",
        "outputId": "203899e2-dcd6-4465-ec52-f824aecf97e3"
      },
      "source": [
        "tup1=('a','hello',76,78.4)\n",
        "tup2=('test',80)\n",
        "print(tup1)\n",
        "print(tup2)\n",
        "print(tup1[2])\n",
        "print(tup2[0])\n",
        "#in tuple we cannot change the value immutable\n",
        "#tup2[1]=90\n",
        "#print(tup2)\n",
        "tup3=tup1 + tup2\n",
        "print(tup3)"
      ],
      "execution_count": 34,
      "outputs": [
        {
          "output_type": "stream",
          "name": "stdout",
          "text": [
            "('a', 'hello', 76, 78.4)\n",
            "('test', 80)\n",
            "76\n",
            "test\n",
            "('a', 'hello', 76, 78.4, 'test', 80)\n"
          ]
        }
      ]
    },
    {
      "cell_type": "code",
      "metadata": {
        "colab": {
          "base_uri": "https://localhost:8080/"
        },
        "id": "vUzPa_5g7L-u",
        "outputId": "c071fef7-c2e0-4758-fd24-9dbdabe84a68"
      },
      "source": [
        "#dictionary\n",
        "d={\"Bihar\":\"Patna\",\"Jharkhand\":\"Ranchi\",\"Uttarpradesh\":\"Lucknow\",\"Punjab\":\"Chandigarh\"}\n",
        "a=input(\"Enter state name:\")\n",
        "b=a.capitalize()\n",
        "print(b,\" = \",d[b])"
      ],
      "execution_count": 35,
      "outputs": [
        {
          "output_type": "stream",
          "name": "stdout",
          "text": [
            "Enter state name:bihar\n",
            "Bihar  =  Patna\n"
          ]
        }
      ]
    },
    {
      "cell_type": "code",
      "metadata": {
        "colab": {
          "base_uri": "https://localhost:8080/"
        },
        "id": "pdZxqumH7SIw",
        "outputId": "8f49568e-512e-44fb-f6cc-6875a40e1dca"
      },
      "source": [
        "\"\"\" to display the calendar of a given month and year by the user \"\"\"\n",
        "import calendar\n",
        "y = int(input(\"Enter year: \"))  \n",
        "m  = int(input(\"Enter month: \"))\n",
        "print(calendar.month(y,m))  "
      ],
      "execution_count": 37,
      "outputs": [
        {
          "output_type": "stream",
          "name": "stdout",
          "text": [
            "Enter year: 2020\n",
            "Enter month: 9\n",
            "   September 2020\n",
            "Mo Tu We Th Fr Sa Su\n",
            "    1  2  3  4  5  6\n",
            " 7  8  9 10 11 12 13\n",
            "14 15 16 17 18 19 20\n",
            "21 22 23 24 25 26 27\n",
            "28 29 30\n",
            "\n"
          ]
        }
      ]
    },
    {
      "cell_type": "code",
      "metadata": {
        "id": "65Vi7pbJ7ifW"
      },
      "source": [
        ""
      ],
      "execution_count": null,
      "outputs": []
    }
  ]
}